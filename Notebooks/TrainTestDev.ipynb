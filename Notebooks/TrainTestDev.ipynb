{
 "cells": [
  {
   "cell_type": "markdown",
   "id": "6265f4ae-193d-4a43-9ccf-007879f5ac6b",
   "metadata": {},
   "source": [
    "## Import Libraries"
   ]
  },
  {
   "cell_type": "code",
   "execution_count": 17,
   "id": "7147e32e-b0f4-4b44-b726-8dbca5999968",
   "metadata": {},
   "outputs": [],
   "source": [
    "import os\n",
    "import random\n",
    "import shutil"
   ]
  },
  {
   "cell_type": "markdown",
   "id": "b2d459e1-2bdc-4c16-b7a0-4ce124021600",
   "metadata": {},
   "source": [
    "## Defining Paths"
   ]
  },
  {
   "cell_type": "code",
   "execution_count": 18,
   "id": "6d703dfb-d7c0-44eb-a1c8-13815966ddb4",
   "metadata": {},
   "outputs": [],
   "source": [
    "dataset_path = \"../Dataset/Flowers\"\n",
    "train_path = \"../Dataset/train\"\n",
    "test_path = \"../Dataset/test\"\n",
    "val_path = \"../Dataset/val\""
   ]
  },
  {
   "cell_type": "code",
   "execution_count": 19,
   "id": "d228ea5a-9a44-4e77-a35f-2138441358d7",
   "metadata": {},
   "outputs": [],
   "source": [
    "os.makedirs(train_path, exist_ok=True)\n",
    "os.makedirs(test_path, exist_ok=True)\n",
    "os.makedirs(val_path, exist_ok=True)"
   ]
  },
  {
   "cell_type": "markdown",
   "id": "a5f12b70-a6c0-46a6-84ad-e68b60cd7ab6",
   "metadata": {},
   "source": [
    "## Train - Test - Validation Split (70%, 10%, 20%)"
   ]
  },
  {
   "cell_type": "code",
   "execution_count": 20,
   "id": "33241c10-2b3b-472d-b68a-d51f5ce0e266",
   "metadata": {},
   "outputs": [],
   "source": [
    "train_data = []\n",
    "test_data = []\n",
    "val_data = []"
   ]
  },
  {
   "cell_type": "code",
   "execution_count": 21,
   "id": "dd34b83a-0fb9-426e-bf4c-8ca6c3471833",
   "metadata": {},
   "outputs": [],
   "source": [
    "for class_folder in os.listdir(dataset_path):\n",
    "    images = os.listdir(os.path.join(dataset_path, class_folder))\n",
    "    random.shuffle(images)\n",
    "\n",
    "    train_images = images[:int(0.7 * len(images))]\n",
    "    test_images = images[int(0.7 * len(images)):int(0.8 * len(images))]\n",
    "    val_images = images[int(0.8 * len(images)):]\n",
    "\n",
    "    train_data.extend([(class_folder, image) for image in train_images])\n",
    "    test_data.extend([(class_folder, image) for image in test_images])\n",
    "    val_data.extend([(class_folder, image) for image in val_images])"
   ]
  },
  {
   "cell_type": "markdown",
   "id": "dca41514-f503-449e-8111-db569724e591",
   "metadata": {},
   "source": [
    "### Creating Train data"
   ]
  },
  {
   "cell_type": "code",
   "execution_count": 22,
   "id": "3535df1d-e53d-41de-a585-f1289431ceb2",
   "metadata": {},
   "outputs": [],
   "source": [
    "for values in train_data:\n",
    "    class_ = values[0]\n",
    "    source_path = \"../Dataset/Flowers/\"+class_+\"/\"+values[1]\n",
    "    dest_folder = \"../Dataset/train/\"+class_+\"/\"\n",
    "    if not os.path.isdir(dest_folder):\n",
    "        os.makedirs(dest_folder)\n",
    "    shutil.copy2(source_path, dest_folder+values[1])"
   ]
  },
  {
   "cell_type": "markdown",
   "id": "1f09ab72-0ee8-420b-a287-c853ec1c72f1",
   "metadata": {},
   "source": [
    "### Creating Test data"
   ]
  },
  {
   "cell_type": "code",
   "execution_count": 23,
   "id": "d4f120f0-4620-4532-84c5-0897c1b66bca",
   "metadata": {},
   "outputs": [],
   "source": [
    "for values in test_data:\n",
    "    class_ = values[0]\n",
    "    source_path = \"../Dataset/Flowers/\"+class_+\"/\"+values[1]\n",
    "    dest_folder = \"../Dataset/test/\"+class_+\"/\"\n",
    "    if not os.path.isdir(dest_folder):\n",
    "        os.makedirs(dest_folder)\n",
    "    shutil.copy2(source_path, dest_folder+values[1])"
   ]
  },
  {
   "cell_type": "markdown",
   "id": "7d25085d-34bd-487e-acea-2d425e598328",
   "metadata": {},
   "source": [
    "### Creating validation data"
   ]
  },
  {
   "cell_type": "code",
   "execution_count": 25,
   "id": "9fc20795-4119-42d2-b24a-9cd2585c0eb9",
   "metadata": {},
   "outputs": [],
   "source": [
    "for values in val_data:\n",
    "    class_ = values[0]\n",
    "    source_path = \"../Dataset/Flowers/\"+class_+\"/\"+values[1]\n",
    "    dest_folder = \"../Dataset/val/\"+class_+\"/\"\n",
    "    if not os.path.isdir(dest_folder):\n",
    "        os.makedirs(dest_folder)\n",
    "    shutil.copy2(source_path, dest_folder+values[1])"
   ]
  },
  {
   "cell_type": "code",
   "execution_count": null,
   "id": "5bfa5510-c570-4636-aa43-d258a6682cf1",
   "metadata": {},
   "outputs": [],
   "source": []
  }
 ],
 "metadata": {
  "kernelspec": {
   "display_name": "Python 3 (ipykernel)",
   "language": "python",
   "name": "python3"
  },
  "language_info": {
   "codemirror_mode": {
    "name": "ipython",
    "version": 3
   },
   "file_extension": ".py",
   "mimetype": "text/x-python",
   "name": "python",
   "nbconvert_exporter": "python",
   "pygments_lexer": "ipython3",
   "version": "3.11.5"
  }
 },
 "nbformat": 4,
 "nbformat_minor": 5
}
